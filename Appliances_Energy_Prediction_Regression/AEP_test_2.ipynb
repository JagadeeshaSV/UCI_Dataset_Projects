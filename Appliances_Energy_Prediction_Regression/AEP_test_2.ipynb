{
 "cells": [
  {
   "cell_type": "code",
   "execution_count": 1,
   "id": "forty-wireless",
   "metadata": {},
   "outputs": [],
   "source": [
    "# Datset source\n",
    "# https://archive.ics.uci.edu/ml/datasets/Appliances+energy+prediction"
   ]
  },
  {
   "cell_type": "code",
   "execution_count": 2,
   "id": "published-crystal",
   "metadata": {},
   "outputs": [],
   "source": [
    "# Problem statement: Predict the appliances energy use based on various features"
   ]
  },
  {
   "cell_type": "code",
   "execution_count": 3,
   "id": "conventional-moscow",
   "metadata": {},
   "outputs": [],
   "source": [
    "# Python ≥3.5 is required\n",
    "import sys\n",
    "assert sys.version_info >= (3, 5)\n",
    "\n",
    "# Scikit-Learn ≥0.20 is required\n",
    "import sklearn\n",
    "assert sklearn.__version__ >= \"0.20\"\n",
    "\n",
    "# Common imports\n",
    "import numpy as np\n",
    "import os\n",
    "\n",
    "# To plot pretty figures\n",
    "%matplotlib inline\n",
    "import matplotlib as mpl\n",
    "import matplotlib.pyplot as plt\n",
    "mpl.rc('axes', labelsize=14)\n",
    "mpl.rc('xtick', labelsize=12)\n",
    "mpl.rc('ytick', labelsize=12)\n",
    "\n",
    "# Ignore useless warnings (see SciPy issue #5998)\n",
    "import warnings\n",
    "warnings.filterwarnings(action=\"ignore\", message=\"^internal gelsd\")"
   ]
  },
  {
   "cell_type": "code",
   "execution_count": 4,
   "id": "seven-croatia",
   "metadata": {},
   "outputs": [
    {
     "name": "stdout",
     "output_type": "stream",
     "text": [
      "(19735, 29)\n"
     ]
    },
    {
     "data": {
      "text/html": [
       "<div>\n",
       "<style scoped>\n",
       "    .dataframe tbody tr th:only-of-type {\n",
       "        vertical-align: middle;\n",
       "    }\n",
       "\n",
       "    .dataframe tbody tr th {\n",
       "        vertical-align: top;\n",
       "    }\n",
       "\n",
       "    .dataframe thead th {\n",
       "        text-align: right;\n",
       "    }\n",
       "</style>\n",
       "<table border=\"1\" class=\"dataframe\">\n",
       "  <thead>\n",
       "    <tr style=\"text-align: right;\">\n",
       "      <th></th>\n",
       "      <th>date</th>\n",
       "      <th>Appliances</th>\n",
       "      <th>lights</th>\n",
       "      <th>T1</th>\n",
       "      <th>RH_1</th>\n",
       "      <th>T2</th>\n",
       "      <th>RH_2</th>\n",
       "      <th>T3</th>\n",
       "      <th>RH_3</th>\n",
       "      <th>T4</th>\n",
       "      <th>RH_4</th>\n",
       "      <th>T5</th>\n",
       "      <th>RH_5</th>\n",
       "      <th>T6</th>\n",
       "      <th>RH_6</th>\n",
       "      <th>T7</th>\n",
       "      <th>RH_7</th>\n",
       "      <th>T8</th>\n",
       "      <th>RH_8</th>\n",
       "      <th>T9</th>\n",
       "      <th>RH_9</th>\n",
       "      <th>T_out</th>\n",
       "      <th>Press_mm_hg</th>\n",
       "      <th>RH_out</th>\n",
       "      <th>Windspeed</th>\n",
       "      <th>Visibility</th>\n",
       "      <th>Tdewpoint</th>\n",
       "      <th>rv1</th>\n",
       "      <th>rv2</th>\n",
       "    </tr>\n",
       "  </thead>\n",
       "  <tbody>\n",
       "    <tr>\n",
       "      <th>0</th>\n",
       "      <td>2016-01-11 17:00:00</td>\n",
       "      <td>60</td>\n",
       "      <td>30</td>\n",
       "      <td>19.89</td>\n",
       "      <td>47.596667</td>\n",
       "      <td>19.2</td>\n",
       "      <td>44.790000</td>\n",
       "      <td>19.79</td>\n",
       "      <td>44.730000</td>\n",
       "      <td>19.000000</td>\n",
       "      <td>45.566667</td>\n",
       "      <td>17.166667</td>\n",
       "      <td>55.20</td>\n",
       "      <td>7.026667</td>\n",
       "      <td>84.256667</td>\n",
       "      <td>17.200000</td>\n",
       "      <td>41.626667</td>\n",
       "      <td>18.2</td>\n",
       "      <td>48.900000</td>\n",
       "      <td>17.033333</td>\n",
       "      <td>45.53</td>\n",
       "      <td>6.600000</td>\n",
       "      <td>733.5</td>\n",
       "      <td>92.0</td>\n",
       "      <td>7.000000</td>\n",
       "      <td>63.000000</td>\n",
       "      <td>5.3</td>\n",
       "      <td>13.275433</td>\n",
       "      <td>13.275433</td>\n",
       "    </tr>\n",
       "    <tr>\n",
       "      <th>1</th>\n",
       "      <td>2016-01-11 17:10:00</td>\n",
       "      <td>60</td>\n",
       "      <td>30</td>\n",
       "      <td>19.89</td>\n",
       "      <td>46.693333</td>\n",
       "      <td>19.2</td>\n",
       "      <td>44.722500</td>\n",
       "      <td>19.79</td>\n",
       "      <td>44.790000</td>\n",
       "      <td>19.000000</td>\n",
       "      <td>45.992500</td>\n",
       "      <td>17.166667</td>\n",
       "      <td>55.20</td>\n",
       "      <td>6.833333</td>\n",
       "      <td>84.063333</td>\n",
       "      <td>17.200000</td>\n",
       "      <td>41.560000</td>\n",
       "      <td>18.2</td>\n",
       "      <td>48.863333</td>\n",
       "      <td>17.066667</td>\n",
       "      <td>45.56</td>\n",
       "      <td>6.483333</td>\n",
       "      <td>733.6</td>\n",
       "      <td>92.0</td>\n",
       "      <td>6.666667</td>\n",
       "      <td>59.166667</td>\n",
       "      <td>5.2</td>\n",
       "      <td>18.606195</td>\n",
       "      <td>18.606195</td>\n",
       "    </tr>\n",
       "    <tr>\n",
       "      <th>2</th>\n",
       "      <td>2016-01-11 17:20:00</td>\n",
       "      <td>50</td>\n",
       "      <td>30</td>\n",
       "      <td>19.89</td>\n",
       "      <td>46.300000</td>\n",
       "      <td>19.2</td>\n",
       "      <td>44.626667</td>\n",
       "      <td>19.79</td>\n",
       "      <td>44.933333</td>\n",
       "      <td>18.926667</td>\n",
       "      <td>45.890000</td>\n",
       "      <td>17.166667</td>\n",
       "      <td>55.09</td>\n",
       "      <td>6.560000</td>\n",
       "      <td>83.156667</td>\n",
       "      <td>17.200000</td>\n",
       "      <td>41.433333</td>\n",
       "      <td>18.2</td>\n",
       "      <td>48.730000</td>\n",
       "      <td>17.000000</td>\n",
       "      <td>45.50</td>\n",
       "      <td>6.366667</td>\n",
       "      <td>733.7</td>\n",
       "      <td>92.0</td>\n",
       "      <td>6.333333</td>\n",
       "      <td>55.333333</td>\n",
       "      <td>5.1</td>\n",
       "      <td>28.642668</td>\n",
       "      <td>28.642668</td>\n",
       "    </tr>\n",
       "    <tr>\n",
       "      <th>3</th>\n",
       "      <td>2016-01-11 17:30:00</td>\n",
       "      <td>50</td>\n",
       "      <td>40</td>\n",
       "      <td>19.89</td>\n",
       "      <td>46.066667</td>\n",
       "      <td>19.2</td>\n",
       "      <td>44.590000</td>\n",
       "      <td>19.79</td>\n",
       "      <td>45.000000</td>\n",
       "      <td>18.890000</td>\n",
       "      <td>45.723333</td>\n",
       "      <td>17.166667</td>\n",
       "      <td>55.09</td>\n",
       "      <td>6.433333</td>\n",
       "      <td>83.423333</td>\n",
       "      <td>17.133333</td>\n",
       "      <td>41.290000</td>\n",
       "      <td>18.1</td>\n",
       "      <td>48.590000</td>\n",
       "      <td>17.000000</td>\n",
       "      <td>45.40</td>\n",
       "      <td>6.250000</td>\n",
       "      <td>733.8</td>\n",
       "      <td>92.0</td>\n",
       "      <td>6.000000</td>\n",
       "      <td>51.500000</td>\n",
       "      <td>5.0</td>\n",
       "      <td>45.410389</td>\n",
       "      <td>45.410389</td>\n",
       "    </tr>\n",
       "    <tr>\n",
       "      <th>4</th>\n",
       "      <td>2016-01-11 17:40:00</td>\n",
       "      <td>60</td>\n",
       "      <td>40</td>\n",
       "      <td>19.89</td>\n",
       "      <td>46.333333</td>\n",
       "      <td>19.2</td>\n",
       "      <td>44.530000</td>\n",
       "      <td>19.79</td>\n",
       "      <td>45.000000</td>\n",
       "      <td>18.890000</td>\n",
       "      <td>45.530000</td>\n",
       "      <td>17.200000</td>\n",
       "      <td>55.09</td>\n",
       "      <td>6.366667</td>\n",
       "      <td>84.893333</td>\n",
       "      <td>17.200000</td>\n",
       "      <td>41.230000</td>\n",
       "      <td>18.1</td>\n",
       "      <td>48.590000</td>\n",
       "      <td>17.000000</td>\n",
       "      <td>45.40</td>\n",
       "      <td>6.133333</td>\n",
       "      <td>733.9</td>\n",
       "      <td>92.0</td>\n",
       "      <td>5.666667</td>\n",
       "      <td>47.666667</td>\n",
       "      <td>4.9</td>\n",
       "      <td>10.084097</td>\n",
       "      <td>10.084097</td>\n",
       "    </tr>\n",
       "  </tbody>\n",
       "</table>\n",
       "</div>"
      ],
      "text/plain": [
       "                  date  Appliances  lights     T1       RH_1    T2       RH_2  \\\n",
       "0  2016-01-11 17:00:00          60      30  19.89  47.596667  19.2  44.790000   \n",
       "1  2016-01-11 17:10:00          60      30  19.89  46.693333  19.2  44.722500   \n",
       "2  2016-01-11 17:20:00          50      30  19.89  46.300000  19.2  44.626667   \n",
       "3  2016-01-11 17:30:00          50      40  19.89  46.066667  19.2  44.590000   \n",
       "4  2016-01-11 17:40:00          60      40  19.89  46.333333  19.2  44.530000   \n",
       "\n",
       "      T3       RH_3         T4       RH_4         T5   RH_5        T6  \\\n",
       "0  19.79  44.730000  19.000000  45.566667  17.166667  55.20  7.026667   \n",
       "1  19.79  44.790000  19.000000  45.992500  17.166667  55.20  6.833333   \n",
       "2  19.79  44.933333  18.926667  45.890000  17.166667  55.09  6.560000   \n",
       "3  19.79  45.000000  18.890000  45.723333  17.166667  55.09  6.433333   \n",
       "4  19.79  45.000000  18.890000  45.530000  17.200000  55.09  6.366667   \n",
       "\n",
       "        RH_6         T7       RH_7    T8       RH_8         T9   RH_9  \\\n",
       "0  84.256667  17.200000  41.626667  18.2  48.900000  17.033333  45.53   \n",
       "1  84.063333  17.200000  41.560000  18.2  48.863333  17.066667  45.56   \n",
       "2  83.156667  17.200000  41.433333  18.2  48.730000  17.000000  45.50   \n",
       "3  83.423333  17.133333  41.290000  18.1  48.590000  17.000000  45.40   \n",
       "4  84.893333  17.200000  41.230000  18.1  48.590000  17.000000  45.40   \n",
       "\n",
       "      T_out  Press_mm_hg  RH_out  Windspeed  Visibility  Tdewpoint        rv1  \\\n",
       "0  6.600000        733.5    92.0   7.000000   63.000000        5.3  13.275433   \n",
       "1  6.483333        733.6    92.0   6.666667   59.166667        5.2  18.606195   \n",
       "2  6.366667        733.7    92.0   6.333333   55.333333        5.1  28.642668   \n",
       "3  6.250000        733.8    92.0   6.000000   51.500000        5.0  45.410389   \n",
       "4  6.133333        733.9    92.0   5.666667   47.666667        4.9  10.084097   \n",
       "\n",
       "         rv2  \n",
       "0  13.275433  \n",
       "1  18.606195  \n",
       "2  28.642668  \n",
       "3  45.410389  \n",
       "4  10.084097  "
      ]
     },
     "execution_count": 4,
     "metadata": {},
     "output_type": "execute_result"
    }
   ],
   "source": [
    "# Read the dataset\n",
    "\n",
    "import pandas as pd\n",
    "pd.options.display.max_columns = 1000\n",
    "aep_df = pd.read_csv('energydata_complete.csv', sep=',')\n",
    "print(aep_df.shape)\n",
    "aep_df.head()"
   ]
  },
  {
   "cell_type": "code",
   "execution_count": 5,
   "id": "ordered-mainstream",
   "metadata": {},
   "outputs": [
    {
     "data": {
      "text/plain": [
       "0"
      ]
     },
     "execution_count": 5,
     "metadata": {},
     "output_type": "execute_result"
    }
   ],
   "source": [
    "# Check for NAN values in the entire dataframe\n",
    "\n",
    "aep_df.isnull().sum().sum()"
   ]
  },
  {
   "cell_type": "code",
   "execution_count": 6,
   "id": "ranking-flash",
   "metadata": {},
   "outputs": [],
   "source": [
    "# To make this notebook's output identical at every run\n",
    "\n",
    "np.random.seed(2)"
   ]
  },
  {
   "cell_type": "code",
   "execution_count": 7,
   "id": "abstract-protection",
   "metadata": {},
   "outputs": [
    {
     "name": "stdout",
     "output_type": "stream",
     "text": [
      "X shape:  (19735, 27) y shape:  (19735,)\n",
      "Sample X values:  [[ 30.          19.89        47.59666667  19.2         44.79\n",
      "   19.79        44.73        19.          45.56666667  17.16666667\n",
      "   55.2          7.02666667  84.25666667  17.2         41.62666667\n",
      "   18.2         48.9         17.03333333  45.53         6.6\n",
      "  733.5         92.           7.          63.           5.3\n",
      "   13.27543316  13.27543316]\n",
      " [ 30.          19.89        46.69333333  19.2         44.7225\n",
      "   19.79        44.79        19.          45.9925      17.16666667\n",
      "   55.2          6.83333333  84.06333333  17.2         41.56\n",
      "   18.2         48.86333333  17.06666667  45.56         6.48333333\n",
      "  733.6         92.           6.66666667  59.16666667   5.2\n",
      "   18.60619498  18.60619498]\n",
      " [ 30.          19.89        46.3         19.2         44.62666667\n",
      "   19.79        44.93333333  18.92666667  45.89        17.16666667\n",
      "   55.09         6.56        83.15666667  17.2         41.43333333\n",
      "   18.2         48.73        17.          45.5          6.36666667\n",
      "  733.7         92.           6.33333333  55.33333333   5.1\n",
      "   28.64266817  28.64266817]\n",
      " [ 40.          19.89        46.06666667  19.2         44.59\n",
      "   19.79        45.          18.89        45.72333333  17.16666667\n",
      "   55.09         6.43333333  83.42333333  17.13333333  41.29\n",
      "   18.1         48.59        17.          45.4          6.25\n",
      "  733.8         92.           6.          51.5          5.\n",
      "   45.4103895   45.4103895 ]\n",
      " [ 40.          19.89        46.33333333  19.2         44.53\n",
      "   19.79        45.          18.89        45.53        17.2\n",
      "   55.09         6.36666667  84.89333333  17.2         41.23\n",
      "   18.1         48.59        17.          45.4          6.13333333\n",
      "  733.9         92.           5.66666667  47.66666667   4.9\n",
      "   10.08409655  10.08409655]] \n",
      " Sample y values:  [60 60 50 50 60]\n"
     ]
    }
   ],
   "source": [
    "# Split the dataframe into features and labels\n",
    "\n",
    "X = aep_df.drop(['date', 'Appliances'], axis=1).values\n",
    "y = aep_df.loc[:, 'Appliances'].values\n",
    "print(\"X shape: \", X.shape, \"y shape: \", y.shape)\n",
    "print(\"Sample X values: \", X[:5], \"\\n\", \"Sample y values: \", y[:5])"
   ]
  },
  {
   "cell_type": "code",
   "execution_count": 8,
   "id": "featured-recorder",
   "metadata": {},
   "outputs": [
    {
     "name": "stdout",
     "output_type": "stream",
     "text": [
      " X_train shape:  (18748, 27) \n",
      " y_train shape:  (18748,) \n",
      " X_test shape:  (987, 27) \n",
      " y_test shape:  (987,) \n",
      "\n"
     ]
    }
   ],
   "source": [
    "# Split the dataset into train and test sets\n",
    "\n",
    "from sklearn.model_selection import train_test_split\n",
    "X_train, X_test, y_train, y_test = train_test_split(X, y, test_size=0.05, random_state=2)\n",
    "\n",
    "print(\" X_train shape: \", X_train.shape,\"\\n\", \"y_train shape: \", y_train.shape,\"\\n\",\n",
    "        \"X_test shape: \", X_test.shape,\"\\n\", \"y_test shape: \", y_test.shape,\"\\n\")"
   ]
  },
  {
   "cell_type": "code",
   "execution_count": 9,
   "id": "incredible-tobago",
   "metadata": {},
   "outputs": [],
   "source": [
    "# Scale the data\n",
    "\n",
    "from sklearn.preprocessing import StandardScaler\n",
    "scaler = StandardScaler()\n",
    "X_train_scaled = scaler.fit_transform(X_train)\n",
    "X_test_scaled = scaler.transform(X_test)"
   ]
  },
  {
   "cell_type": "code",
   "execution_count": 10,
   "id": "searching-capability",
   "metadata": {},
   "outputs": [
    {
     "data": {
      "text/plain": [
       "LinearSVR(random_state=2)"
      ]
     },
     "execution_count": 10,
     "metadata": {},
     "output_type": "execute_result"
    }
   ],
   "source": [
    "# Model 1\n",
    "# Sklearn LinearSVR model with default parameters\n",
    "\n",
    "from sklearn.svm import LinearSVR\n",
    "lin_svr = LinearSVR(random_state=2)\n",
    "lin_svr.fit(X_train_scaled, y_train)"
   ]
  },
  {
   "cell_type": "code",
   "execution_count": 11,
   "id": "graduate-nancy",
   "metadata": {},
   "outputs": [
    {
     "name": "stdout",
     "output_type": "stream",
     "text": [
      "Train set R^2 score:  0.028301465312815077\n",
      "Test set R^2 score:  0.03865841765464062\n"
     ]
    }
   ],
   "source": [
    "# R^2 values for train and test sets\n",
    "\n",
    "print(\"Train set R^2 score: \", lin_svr.score(X_train_scaled, y_train))\n",
    "print(\"Test set R^2 score: \", lin_svr.score(X_test_scaled, y_test))"
   ]
  },
  {
   "cell_type": "code",
   "execution_count": 12,
   "id": "further-checklist",
   "metadata": {},
   "outputs": [
    {
     "name": "stdout",
     "output_type": "stream",
     "text": [
      "Train set mse:  10289.28564720545\n",
      "Test set mse:  8664.689117700937\n"
     ]
    }
   ],
   "source": [
    "# Mean Squared Errors of train and test sets\n",
    "\n",
    "from sklearn.metrics import mean_squared_error\n",
    "print(\"Train set mse: \", mean_squared_error(y_train, lin_svr.predict(X_train_scaled)))\n",
    "print(\"Test set mse: \", mean_squared_error(y_test, lin_svr.predict(X_test_scaled)))"
   ]
  },
  {
   "cell_type": "code",
   "execution_count": 13,
   "id": "banned-people",
   "metadata": {},
   "outputs": [
    {
     "name": "stdout",
     "output_type": "stream",
     "text": [
      "Train set mae:  44.19481061858397\n",
      "Test set mae:  40.9262174168048\n"
     ]
    }
   ],
   "source": [
    "# Mean Absolute Errors of train and test sets\n",
    "\n",
    "from sklearn.metrics import mean_absolute_error\n",
    "print(\"Train set mae: \", mean_absolute_error(y_train, lin_svr.predict(X_train_scaled)))\n",
    "print(\"Test set mae: \", mean_absolute_error(y_test, lin_svr.predict(X_test_scaled)))"
   ]
  },
  {
   "cell_type": "code",
   "execution_count": 14,
   "id": "careful-specialist",
   "metadata": {},
   "outputs": [],
   "source": [
    "# LinearSVR with default hyperparameters is very poor at fitting the data, we will try to increase the R^2 score by using nonlinear kernels"
   ]
  },
  {
   "cell_type": "code",
   "execution_count": 15,
   "id": "criminal-functionality",
   "metadata": {},
   "outputs": [
    {
     "name": "stdout",
     "output_type": "stream",
     "text": [
      "Fitting 3 folds for each of 30 candidates, totalling 90 fits\n"
     ]
    },
    {
     "data": {
      "text/plain": [
       "RandomizedSearchCV(cv=3, estimator=SVR(), n_iter=30, n_jobs=6,\n",
       "                   param_distributions={'C': <scipy.stats._distn_infrastructure.rv_frozen object at 0x7f86eee6aad0>,\n",
       "                                        'gamma': <scipy.stats._distn_infrastructure.rv_frozen object at 0x7f86eee6a310>},\n",
       "                   random_state=2, verbose=5)"
      ]
     },
     "execution_count": 15,
     "metadata": {},
     "output_type": "execute_result"
    }
   ],
   "source": [
    "# Model 2\n",
    "# Sklearn SVR model with rbf kernel\n",
    "\n",
    "from sklearn.svm import SVR\n",
    "from sklearn.model_selection import RandomizedSearchCV\n",
    "from scipy.stats import reciprocal, uniform\n",
    "\n",
    "param_distributions = {\"gamma\": reciprocal(0.001, 1.0), \"C\": uniform(1, 10)}\n",
    "rbf_rnd_search_cv = RandomizedSearchCV(SVR(), param_distributions, n_iter=30, n_jobs=6, verbose=5, cv=3, random_state=2)\n",
    "rbf_rnd_search_cv.fit(X_train_scaled, y_train)"
   ]
  },
  {
   "cell_type": "code",
   "execution_count": 16,
   "id": "referenced-nerve",
   "metadata": {},
   "outputs": [
    {
     "data": {
      "text/plain": [
       "SVR(C=8.93637454441577, gamma=0.0549556737499024)"
      ]
     },
     "execution_count": 16,
     "metadata": {},
     "output_type": "execute_result"
    }
   ],
   "source": [
    "rbf_rnd_search_cv.best_estimator_"
   ]
  },
  {
   "cell_type": "code",
   "execution_count": 17,
   "id": "tough-language",
   "metadata": {},
   "outputs": [
    {
     "name": "stdout",
     "output_type": "stream",
     "text": [
      "Train set R^2 score:  0.13525206441821336\n",
      "Test set R^2 score:  0.13859959472507088\n"
     ]
    }
   ],
   "source": [
    "# R^2 values for train and test sets\n",
    "\n",
    "print(\"Train set R^2 score: \", rbf_rnd_search_cv.best_estimator_.score(X_train_scaled, y_train))\n",
    "print(\"Test set R^2 score: \", rbf_rnd_search_cv.best_estimator_.score(X_test_scaled, y_test))"
   ]
  },
  {
   "cell_type": "code",
   "execution_count": 18,
   "id": "behind-morgan",
   "metadata": {},
   "outputs": [
    {
     "name": "stdout",
     "output_type": "stream",
     "text": [
      "Train set mse:  9156.789070281558\n",
      "Test set mse:  7763.907080103311\n"
     ]
    }
   ],
   "source": [
    "# Mean Squared Errors of train and test sets\n",
    "\n",
    "print(\"Train set mse: \", mean_squared_error(y_train, rbf_rnd_search_cv.best_estimator_.predict(X_train_scaled)))\n",
    "print(\"Test set mse: \", mean_squared_error(y_test, rbf_rnd_search_cv.best_estimator_.predict(X_test_scaled)))"
   ]
  },
  {
   "cell_type": "code",
   "execution_count": 19,
   "id": "opposite-communist",
   "metadata": {},
   "outputs": [
    {
     "name": "stdout",
     "output_type": "stream",
     "text": [
      "Train set mae:  38.78134712925022\n",
      "Test set mae:  36.509261084370316\n"
     ]
    }
   ],
   "source": [
    "# Mean Absolute Errors of train and test sets\n",
    "\n",
    "from sklearn.metrics import mean_absolute_error\n",
    "print(\"Train set mae: \", mean_absolute_error(y_train, rbf_rnd_search_cv.best_estimator_.predict(X_train_scaled)))\n",
    "print(\"Test set mae: \", mean_absolute_error(y_test, rbf_rnd_search_cv.best_estimator_.predict(X_test_scaled)))"
   ]
  },
  {
   "cell_type": "code",
   "execution_count": 20,
   "id": "working-istanbul",
   "metadata": {},
   "outputs": [
    {
     "name": "stdout",
     "output_type": "stream",
     "text": [
      "Fitting 3 folds for each of 10 candidates, totalling 30 fits\n"
     ]
    },
    {
     "data": {
      "text/plain": [
       "RandomizedSearchCV(cv=3, estimator=SVR(coef0=1, kernel='poly'), n_jobs=6,\n",
       "                   param_distributions={'C': <scipy.stats._distn_infrastructure.rv_frozen object at 0x7f86ef5bfe90>,\n",
       "                                        'gamma': <scipy.stats._distn_infrastructure.rv_frozen object at 0x7f87b7fd2450>},\n",
       "                   random_state=2, verbose=5)"
      ]
     },
     "execution_count": 20,
     "metadata": {},
     "output_type": "execute_result"
    }
   ],
   "source": [
    "# Model 3\n",
    "# Sklearn SVR model with polynomial kernel\n",
    "\n",
    "from sklearn.svm import SVR\n",
    "from sklearn.model_selection import RandomizedSearchCV\n",
    "from scipy.stats import reciprocal, uniform\n",
    "\n",
    "poly_param_distributions = {\"gamma\": reciprocal(0.001, 1.0), \"C\": uniform(1, 10)}\n",
    "poly_rnd_search_cv = RandomizedSearchCV(SVR(kernel='poly', degree=3, coef0=1), poly_param_distributions, n_iter=10, n_jobs=6, verbose=5, cv=3, random_state=2)\n",
    "poly_rnd_search_cv.fit(X_train_scaled, y_train)"
   ]
  },
  {
   "cell_type": "code",
   "execution_count": 21,
   "id": "departmental-ebony",
   "metadata": {},
   "outputs": [
    {
     "data": {
      "text/plain": [
       "SVR(C=2.844398656469153, coef0=1, gamma=0.22698933025637727, kernel='poly')"
      ]
     },
     "execution_count": 21,
     "metadata": {},
     "output_type": "execute_result"
    }
   ],
   "source": [
    "poly_rnd_search_cv.best_estimator_"
   ]
  },
  {
   "cell_type": "code",
   "execution_count": 22,
   "id": "gentle-lightweight",
   "metadata": {},
   "outputs": [
    {
     "name": "stdout",
     "output_type": "stream",
     "text": [
      "Train set R^2 score:  0.30789910771613627\n",
      "Test set R^2 score:  0.2546722827162372\n"
     ]
    }
   ],
   "source": [
    "# R^2 values for train and test sets\n",
    "\n",
    "print(\"Train set R^2 score: \", poly_rnd_search_cv.best_estimator_.score(X_train_scaled, y_train))\n",
    "print(\"Test set R^2 score: \", poly_rnd_search_cv.best_estimator_.score(X_test_scaled, y_test))"
   ]
  },
  {
   "cell_type": "code",
   "execution_count": 23,
   "id": "turned-bulgarian",
   "metadata": {},
   "outputs": [
    {
     "name": "stdout",
     "output_type": "stream",
     "text": [
      "Train set mse:  7328.63488333545\n",
      "Test set mse:  6717.7297639763065\n"
     ]
    }
   ],
   "source": [
    "# Mean Squared Errors of train and test sets\n",
    "\n",
    "print(\"Train set mse: \", mean_squared_error(y_train, poly_rnd_search_cv.best_estimator_.predict(X_train_scaled)))\n",
    "print(\"Test set mse: \", mean_squared_error(y_test, poly_rnd_search_cv.best_estimator_.predict(X_test_scaled)))"
   ]
  },
  {
   "cell_type": "code",
   "execution_count": 24,
   "id": "micro-recommendation",
   "metadata": {},
   "outputs": [
    {
     "name": "stdout",
     "output_type": "stream",
     "text": [
      "Train set mae:  33.97802363970167\n",
      "Test set mae:  34.90398855233448\n"
     ]
    }
   ],
   "source": [
    "# Mean Absolute Errors of train and test sets\n",
    "\n",
    "from sklearn.metrics import mean_absolute_error\n",
    "print(\"Train set mae: \", mean_absolute_error(y_train, poly_rnd_search_cv.best_estimator_.predict(X_train_scaled)))\n",
    "print(\"Test set mae: \", mean_absolute_error(y_test, poly_rnd_search_cv.best_estimator_.predict(X_test_scaled)))"
   ]
  },
  {
   "cell_type": "code",
   "execution_count": 26,
   "id": "charged-playback",
   "metadata": {},
   "outputs": [
    {
     "name": "stdout",
     "output_type": "stream",
     "text": [
      "Fitting 3 folds for each of 5 candidates, totalling 15 fits\n"
     ]
    },
    {
     "data": {
      "text/plain": [
       "RandomizedSearchCV(cv=3, estimator=SVR(coef0=1, degree=5, kernel='poly'),\n",
       "                   n_iter=5, n_jobs=6,\n",
       "                   param_distributions={'C': <scipy.stats._distn_infrastructure.rv_frozen object at 0x7f87b7e93910>,\n",
       "                                        'gamma': <scipy.stats._distn_infrastructure.rv_frozen object at 0x7f87b7e93810>},\n",
       "                   random_state=2, verbose=5)"
      ]
     },
     "execution_count": 26,
     "metadata": {},
     "output_type": "execute_result"
    }
   ],
   "source": [
    "# Model 3\n",
    "# Sklearn SVR model with 5th order polynomial kernel\n",
    "\n",
    "from sklearn.svm import SVR\n",
    "from sklearn.model_selection import RandomizedSearchCV\n",
    "from scipy.stats import reciprocal, uniform\n",
    "\n",
    "poly_5_param_distributions = {\"gamma\": reciprocal(0.001, 1.0), \"C\": uniform(1, 10)}\n",
    "poly_5_rnd_search_cv = RandomizedSearchCV(SVR(kernel='poly', degree=7, coef0=1), poly_5_param_distributions, n_iter=5, n_jobs=6, verbose=5, cv=3, random_state=2)\n",
    "poly_5_rnd_search_cv.fit(X_train_scaled, y_train)"
   ]
  },
  {
   "cell_type": "code",
   "execution_count": 27,
   "id": "conscious-restriction",
   "metadata": {},
   "outputs": [
    {
     "data": {
      "text/plain": [
       "SVR(C=3.046486340378425, coef0=1, degree=5, gamma=0.07207968815585897,\n",
       "    kernel='poly')"
      ]
     },
     "execution_count": 27,
     "metadata": {},
     "output_type": "execute_result"
    }
   ],
   "source": [
    "poly_5_rnd_search_cv.best_estimator_"
   ]
  },
  {
   "cell_type": "code",
   "execution_count": 28,
   "id": "funded-contractor",
   "metadata": {},
   "outputs": [
    {
     "name": "stdout",
     "output_type": "stream",
     "text": [
      "Train set R^2 score:  0.4258724771426182\n",
      "Test set R^2 score:  0.3020110390896822\n"
     ]
    }
   ],
   "source": [
    "# R^2 values for train and test sets\n",
    "\n",
    "print(\"Train set R^2 score: \", poly_5_rnd_search_cv.best_estimator_.score(X_train_scaled, y_train))\n",
    "print(\"Test set R^2 score: \", poly_5_rnd_search_cv.best_estimator_.score(X_test_scaled, y_test))"
   ]
  },
  {
   "cell_type": "code",
   "execution_count": 29,
   "id": "finnish-relaxation",
   "metadata": {},
   "outputs": [
    {
     "name": "stdout",
     "output_type": "stream",
     "text": [
      "Fitting 3 folds for each of 5 candidates, totalling 15 fits\n"
     ]
    },
    {
     "data": {
      "text/plain": [
       "RandomizedSearchCV(cv=3, estimator=SVR(coef0=1, degree=7, kernel='poly'),\n",
       "                   n_iter=5, n_jobs=6,\n",
       "                   param_distributions={'C': <scipy.stats._distn_infrastructure.rv_frozen object at 0x7f87b7e93910>,\n",
       "                                        'gamma': <scipy.stats._distn_infrastructure.rv_frozen object at 0x7f87b7e93810>},\n",
       "                   random_state=2, verbose=5)"
      ]
     },
     "execution_count": 29,
     "metadata": {},
     "output_type": "execute_result"
    }
   ],
   "source": [
    "# Model 4\n",
    "# Sklearn SVR model with 7th order polynomial kernel\n",
    "\n",
    "from sklearn.svm import SVR\n",
    "from sklearn.model_selection import RandomizedSearchCV\n",
    "from scipy.stats import reciprocal, uniform\n",
    "\n",
    "poly_7_param_distributions = {\"gamma\": reciprocal(0.001, 1.0), \"C\": uniform(1, 10)}\n",
    "poly_7_rnd_search_cv = RandomizedSearchCV(SVR(kernel='poly', degree=7, coef0=1), poly_5_param_distributions, n_iter=5, n_jobs=6, verbose=5, cv=3, random_state=2)\n",
    "poly_7_rnd_search_cv.fit(X_train_scaled, y_train)"
   ]
  },
  {
   "cell_type": "code",
   "execution_count": 30,
   "id": "decreased-condition",
   "metadata": {},
   "outputs": [
    {
     "data": {
      "text/plain": [
       "SVR(C=6.496624778787091, coef0=1, degree=7, gamma=0.02022866293198756,\n",
       "    kernel='poly')"
      ]
     },
     "execution_count": 30,
     "metadata": {},
     "output_type": "execute_result"
    }
   ],
   "source": [
    "poly_7_rnd_search_cv.best_estimator_"
   ]
  },
  {
   "cell_type": "code",
   "execution_count": 31,
   "id": "indoor-humidity",
   "metadata": {},
   "outputs": [
    {
     "name": "stdout",
     "output_type": "stream",
     "text": [
      "Train set R^2 score:  0.2873208327379382\n",
      "Test set R^2 score:  0.22623303870639755\n"
     ]
    }
   ],
   "source": [
    "# R^2 values for train and test sets\n",
    "\n",
    "print(\"Train set R^2 score: \", poly_7_rnd_search_cv.best_estimator_.score(X_train_scaled, y_train))\n",
    "print(\"Test set R^2 score: \", poly_7_rnd_search_cv.best_estimator_.score(X_test_scaled, y_test))"
   ]
  },
  {
   "cell_type": "code",
   "execution_count": 32,
   "id": "corrected-preserve",
   "metadata": {},
   "outputs": [],
   "source": [
    "# It turns out polynomial kernel model with degree 5 is a better model than linear svr, rbf model and polynomial kernel with other degrees with the specified set of parameters"
   ]
  }
 ],
 "metadata": {
  "kernelspec": {
   "display_name": "Python 3",
   "language": "python",
   "name": "python3"
  },
  "language_info": {
   "codemirror_mode": {
    "name": "ipython",
    "version": 3
   },
   "file_extension": ".py",
   "mimetype": "text/x-python",
   "name": "python",
   "nbconvert_exporter": "python",
   "pygments_lexer": "ipython3",
   "version": "3.7.9"
  }
 },
 "nbformat": 4,
 "nbformat_minor": 5
}
