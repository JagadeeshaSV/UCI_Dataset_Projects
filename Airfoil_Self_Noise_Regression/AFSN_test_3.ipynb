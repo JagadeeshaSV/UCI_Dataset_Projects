{
 "cells": [
  {
   "cell_type": "code",
   "execution_count": 1,
   "id": "academic-tactics",
   "metadata": {},
   "outputs": [],
   "source": [
    "# Datset source\n",
    "# https://archive.ics.uci.edu/ml/datasets/Airfoil+Self-Noise"
   ]
  },
  {
   "cell_type": "code",
   "execution_count": 2,
   "id": "authorized-species",
   "metadata": {},
   "outputs": [],
   "source": [
    "# Problem Statement: Predict the scaled sound pressure level of airfoils at various wind tunnel speeds and angles of attack"
   ]
  },
  {
   "cell_type": "code",
   "execution_count": 3,
   "id": "overhead-milan",
   "metadata": {},
   "outputs": [],
   "source": [
    "# Python ≥3.5 is required\n",
    "import sys\n",
    "assert sys.version_info >= (3, 5)\n",
    "\n",
    "# Scikit-Learn ≥0.20 is required\n",
    "import sklearn\n",
    "assert sklearn.__version__ >= \"0.20\"\n",
    "\n",
    "# Common imports\n",
    "import numpy as np\n",
    "import os\n",
    "import datetime\n",
    "\n",
    "# To plot pretty figures\n",
    "%matplotlib inline\n",
    "import matplotlib as mpl\n",
    "import matplotlib.pyplot as plt\n",
    "mpl.rc('axes', labelsize=14)\n",
    "mpl.rc('xtick', labelsize=12)\n",
    "mpl.rc('ytick', labelsize=12)\n",
    "\n",
    "# Ignore useless warnings (see SciPy issue #5998)\n",
    "import warnings\n",
    "warnings.filterwarnings(action=\"ignore\", message=\"^internal gelsd\")"
   ]
  },
  {
   "cell_type": "code",
   "execution_count": 4,
   "id": "increasing-winter",
   "metadata": {},
   "outputs": [
    {
     "name": "stdout",
     "output_type": "stream",
     "text": [
      "(1503, 6)\n"
     ]
    },
    {
     "data": {
      "text/html": [
       "<div>\n",
       "<style scoped>\n",
       "    .dataframe tbody tr th:only-of-type {\n",
       "        vertical-align: middle;\n",
       "    }\n",
       "\n",
       "    .dataframe tbody tr th {\n",
       "        vertical-align: top;\n",
       "    }\n",
       "\n",
       "    .dataframe thead th {\n",
       "        text-align: right;\n",
       "    }\n",
       "</style>\n",
       "<table border=\"1\" class=\"dataframe\">\n",
       "  <thead>\n",
       "    <tr style=\"text-align: right;\">\n",
       "      <th></th>\n",
       "      <th>frequency</th>\n",
       "      <th>angle_of_attack</th>\n",
       "      <th>chord_length</th>\n",
       "      <th>free_stream_velocity</th>\n",
       "      <th>suction_side_thickness</th>\n",
       "      <th>scaled_sound_level_dbs</th>\n",
       "    </tr>\n",
       "  </thead>\n",
       "  <tbody>\n",
       "    <tr>\n",
       "      <th>0</th>\n",
       "      <td>800</td>\n",
       "      <td>0.0</td>\n",
       "      <td>0.3048</td>\n",
       "      <td>71.3</td>\n",
       "      <td>0.002663</td>\n",
       "      <td>126.201</td>\n",
       "    </tr>\n",
       "    <tr>\n",
       "      <th>1</th>\n",
       "      <td>1000</td>\n",
       "      <td>0.0</td>\n",
       "      <td>0.3048</td>\n",
       "      <td>71.3</td>\n",
       "      <td>0.002663</td>\n",
       "      <td>125.201</td>\n",
       "    </tr>\n",
       "    <tr>\n",
       "      <th>2</th>\n",
       "      <td>1250</td>\n",
       "      <td>0.0</td>\n",
       "      <td>0.3048</td>\n",
       "      <td>71.3</td>\n",
       "      <td>0.002663</td>\n",
       "      <td>125.951</td>\n",
       "    </tr>\n",
       "    <tr>\n",
       "      <th>3</th>\n",
       "      <td>1600</td>\n",
       "      <td>0.0</td>\n",
       "      <td>0.3048</td>\n",
       "      <td>71.3</td>\n",
       "      <td>0.002663</td>\n",
       "      <td>127.591</td>\n",
       "    </tr>\n",
       "    <tr>\n",
       "      <th>4</th>\n",
       "      <td>2000</td>\n",
       "      <td>0.0</td>\n",
       "      <td>0.3048</td>\n",
       "      <td>71.3</td>\n",
       "      <td>0.002663</td>\n",
       "      <td>127.461</td>\n",
       "    </tr>\n",
       "  </tbody>\n",
       "</table>\n",
       "</div>"
      ],
      "text/plain": [
       "   frequency  angle_of_attack  chord_length  free_stream_velocity  \\\n",
       "0        800              0.0        0.3048                  71.3   \n",
       "1       1000              0.0        0.3048                  71.3   \n",
       "2       1250              0.0        0.3048                  71.3   \n",
       "3       1600              0.0        0.3048                  71.3   \n",
       "4       2000              0.0        0.3048                  71.3   \n",
       "\n",
       "   suction_side_thickness  scaled_sound_level_dbs  \n",
       "0                0.002663                 126.201  \n",
       "1                0.002663                 125.201  \n",
       "2                0.002663                 125.951  \n",
       "3                0.002663                 127.591  \n",
       "4                0.002663                 127.461  "
      ]
     },
     "execution_count": 4,
     "metadata": {},
     "output_type": "execute_result"
    }
   ],
   "source": [
    "# Read the dataset\n",
    "\n",
    "import pandas as pd\n",
    "afsn_df = pd.read_csv('airfoil_self_noise.dat', sep='\\t', header=None,\n",
    "                 names=['frequency','angle_of_attack','chord_length','free_stream_velocity','suction_side_thickness','scaled_sound_level_dbs'])\n",
    "print(afsn_df.shape)\n",
    "afsn_df.head()"
   ]
  },
  {
   "cell_type": "code",
   "execution_count": 5,
   "id": "buried-samuel",
   "metadata": {},
   "outputs": [],
   "source": [
    "# To make this notebook's output identical at every run\n",
    "\n",
    "np.random.seed(2)"
   ]
  },
  {
   "cell_type": "code",
   "execution_count": 6,
   "id": "breathing-norman",
   "metadata": {},
   "outputs": [
    {
     "name": "stdout",
     "output_type": "stream",
     "text": [
      "X shape:  (1503, 5) y shape:  (1503,)\n",
      "Sample X values:  [[8.00000e+02 0.00000e+00 3.04800e-01 7.13000e+01 2.66337e-03]\n",
      " [1.00000e+03 0.00000e+00 3.04800e-01 7.13000e+01 2.66337e-03]\n",
      " [1.25000e+03 0.00000e+00 3.04800e-01 7.13000e+01 2.66337e-03]\n",
      " [1.60000e+03 0.00000e+00 3.04800e-01 7.13000e+01 2.66337e-03]\n",
      " [2.00000e+03 0.00000e+00 3.04800e-01 7.13000e+01 2.66337e-03]] \n",
      " Sample y values:  [126.201 125.201 125.951 127.591 127.461]\n"
     ]
    }
   ],
   "source": [
    "# Split the dataframe into features and labels\n",
    "\n",
    "X = afsn_df.drop(['scaled_sound_level_dbs'], axis=1).values\n",
    "y = afsn_df.loc[:, 'scaled_sound_level_dbs'].values\n",
    "print(\"X shape: \", X.shape, \"y shape: \", y.shape)\n",
    "print(\"Sample X values: \", X[:5], \"\\n\", \"Sample y values: \", y[:5], )"
   ]
  },
  {
   "cell_type": "code",
   "execution_count": 7,
   "id": "forced-morocco",
   "metadata": {},
   "outputs": [
    {
     "name": "stdout",
     "output_type": "stream",
     "text": [
      " X_train shape:  (1427, 5) \n",
      " y_train shape:  (1427,) \n",
      " X_test shape:  (76, 5) \n",
      " y_test shape:  (76,) \n",
      "\n"
     ]
    }
   ],
   "source": [
    "# Split the dataset into train and test sets\n",
    "\n",
    "from sklearn.model_selection import train_test_split\n",
    "X_train, X_test, y_train, y_test = train_test_split(X, y, test_size=0.05, random_state=2)\n",
    "\n",
    "print(\" X_train shape: \", X_train.shape,\"\\n\", \"y_train shape: \", y_train.shape,\"\\n\",\n",
    "        \"X_test shape: \", X_test.shape,\"\\n\", \"y_test shape: \", y_test.shape,\"\\n\")"
   ]
  },
  {
   "cell_type": "code",
   "execution_count": 8,
   "id": "infrared-mainland",
   "metadata": {},
   "outputs": [
    {
     "data": {
      "text/plain": [
       "DecisionTreeRegressor(max_depth=10, random_state=2)"
      ]
     },
     "execution_count": 8,
     "metadata": {},
     "output_type": "execute_result"
    }
   ],
   "source": [
    "# Model 1\n",
    "# Sklearn DecisionTreeRegressor model with max_depth 10\n",
    "\n",
    "from sklearn.tree import DecisionTreeRegressor\n",
    "dt_reg = DecisionTreeRegressor(max_depth=10, random_state=2)\n",
    "dt_reg.fit(X_train, y_train)"
   ]
  },
  {
   "cell_type": "code",
   "execution_count": 9,
   "id": "naked-march",
   "metadata": {},
   "outputs": [
    {
     "name": "stdout",
     "output_type": "stream",
     "text": [
      "Train set R^2 score:  0.9529943806438242\n",
      "Test set R^2 score:  0.8324028465244899\n"
     ]
    }
   ],
   "source": [
    "# R^2 values for train and test sets\n",
    "\n",
    "print(\"Train set R^2 score: \", dt_reg.score(X_train, y_train))\n",
    "print(\"Test set R^2 score: \", dt_reg.score(X_test, y_test))"
   ]
  },
  {
   "cell_type": "code",
   "execution_count": 10,
   "id": "perceived-australian",
   "metadata": {},
   "outputs": [
    {
     "name": "stdout",
     "output_type": "stream",
     "text": [
      "Train set mse:  2.229367651650768\n",
      "Test set mse:  8.343921048615776\n"
     ]
    }
   ],
   "source": [
    "# Mean Squared Errors of train and test sets\n",
    "\n",
    "from sklearn.metrics import mean_squared_error\n",
    "print(\"Train set mse: \", mean_squared_error(y_train, dt_reg.predict(X_train)))\n",
    "print(\"Test set mse: \", mean_squared_error(y_test, dt_reg.predict(X_test)))"
   ]
  },
  {
   "cell_type": "code",
   "execution_count": 11,
   "id": "difficult-reporter",
   "metadata": {},
   "outputs": [
    {
     "name": "stdout",
     "output_type": "stream",
     "text": [
      "Train set mae:  0.924139583369395\n",
      "Test set mae:  2.1977629504267644\n"
     ]
    }
   ],
   "source": [
    "# Mean Absolute Errors of train and test sets\n",
    "\n",
    "from sklearn.metrics import mean_absolute_error\n",
    "print(\"Train set mae: \", mean_absolute_error(y_train, dt_reg.predict(X_train)))\n",
    "print(\"Test set mae: \", mean_absolute_error(y_test, dt_reg.predict(X_test)))"
   ]
  },
  {
   "cell_type": "code",
   "execution_count": 12,
   "id": "indoor-letters",
   "metadata": {},
   "outputs": [],
   "source": [
    "# The Decision Tree Regressor with max depth 10 achieves a good R^2 score, so no complex models will be developed"
   ]
  }
 ],
 "metadata": {
  "kernelspec": {
   "display_name": "Python 3",
   "language": "python",
   "name": "python3"
  },
  "language_info": {
   "codemirror_mode": {
    "name": "ipython",
    "version": 3
   },
   "file_extension": ".py",
   "mimetype": "text/x-python",
   "name": "python",
   "nbconvert_exporter": "python",
   "pygments_lexer": "ipython3",
   "version": "3.7.9"
  }
 },
 "nbformat": 4,
 "nbformat_minor": 5
}
