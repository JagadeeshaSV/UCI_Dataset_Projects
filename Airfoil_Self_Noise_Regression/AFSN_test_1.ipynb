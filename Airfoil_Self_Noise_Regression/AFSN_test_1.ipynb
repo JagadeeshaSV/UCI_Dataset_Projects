{
 "cells": [
  {
   "cell_type": "code",
   "execution_count": 1,
   "id": "waiting-board",
   "metadata": {},
   "outputs": [],
   "source": [
    "# Datset source\n",
    "# https://archive.ics.uci.edu/ml/datasets/Airfoil+Self-Noise"
   ]
  },
  {
   "cell_type": "code",
   "execution_count": 2,
   "id": "athletic-elimination",
   "metadata": {},
   "outputs": [],
   "source": [
    "# Problem Statement: Predict the scaled sound pressure level of airfoils at various wind tunnel speeds and angles of attack"
   ]
  },
  {
   "cell_type": "code",
   "execution_count": 3,
   "id": "secondary-midwest",
   "metadata": {},
   "outputs": [],
   "source": [
    "# Python ≥3.5 is required\n",
    "import sys\n",
    "assert sys.version_info >= (3, 5)\n",
    "\n",
    "# Scikit-Learn ≥0.20 is required\n",
    "import sklearn\n",
    "assert sklearn.__version__ >= \"0.20\"\n",
    "\n",
    "# Common imports\n",
    "import numpy as np\n",
    "import os\n",
    "\n",
    "# To plot pretty figures\n",
    "%matplotlib inline\n",
    "import matplotlib as mpl\n",
    "import matplotlib.pyplot as plt\n",
    "mpl.rc('axes', labelsize=14)\n",
    "mpl.rc('xtick', labelsize=12)\n",
    "mpl.rc('ytick', labelsize=12)\n",
    "\n",
    "# Ignore useless warnings (see SciPy issue #5998)\n",
    "import warnings\n",
    "warnings.filterwarnings(action=\"ignore\", message=\"^internal gelsd\")"
   ]
  },
  {
   "cell_type": "code",
   "execution_count": 4,
   "id": "southern-plumbing",
   "metadata": {},
   "outputs": [
    {
     "name": "stdout",
     "output_type": "stream",
     "text": [
      "(1503, 6)\n"
     ]
    },
    {
     "data": {
      "text/html": [
       "<div>\n",
       "<style scoped>\n",
       "    .dataframe tbody tr th:only-of-type {\n",
       "        vertical-align: middle;\n",
       "    }\n",
       "\n",
       "    .dataframe tbody tr th {\n",
       "        vertical-align: top;\n",
       "    }\n",
       "\n",
       "    .dataframe thead th {\n",
       "        text-align: right;\n",
       "    }\n",
       "</style>\n",
       "<table border=\"1\" class=\"dataframe\">\n",
       "  <thead>\n",
       "    <tr style=\"text-align: right;\">\n",
       "      <th></th>\n",
       "      <th>frequency</th>\n",
       "      <th>angle_of_attack</th>\n",
       "      <th>chord_length</th>\n",
       "      <th>free_stream_velocity</th>\n",
       "      <th>suction_side_thickness</th>\n",
       "      <th>scaled_sound_level_dbs</th>\n",
       "    </tr>\n",
       "  </thead>\n",
       "  <tbody>\n",
       "    <tr>\n",
       "      <th>0</th>\n",
       "      <td>800</td>\n",
       "      <td>0.0</td>\n",
       "      <td>0.3048</td>\n",
       "      <td>71.3</td>\n",
       "      <td>0.002663</td>\n",
       "      <td>126.201</td>\n",
       "    </tr>\n",
       "    <tr>\n",
       "      <th>1</th>\n",
       "      <td>1000</td>\n",
       "      <td>0.0</td>\n",
       "      <td>0.3048</td>\n",
       "      <td>71.3</td>\n",
       "      <td>0.002663</td>\n",
       "      <td>125.201</td>\n",
       "    </tr>\n",
       "    <tr>\n",
       "      <th>2</th>\n",
       "      <td>1250</td>\n",
       "      <td>0.0</td>\n",
       "      <td>0.3048</td>\n",
       "      <td>71.3</td>\n",
       "      <td>0.002663</td>\n",
       "      <td>125.951</td>\n",
       "    </tr>\n",
       "    <tr>\n",
       "      <th>3</th>\n",
       "      <td>1600</td>\n",
       "      <td>0.0</td>\n",
       "      <td>0.3048</td>\n",
       "      <td>71.3</td>\n",
       "      <td>0.002663</td>\n",
       "      <td>127.591</td>\n",
       "    </tr>\n",
       "    <tr>\n",
       "      <th>4</th>\n",
       "      <td>2000</td>\n",
       "      <td>0.0</td>\n",
       "      <td>0.3048</td>\n",
       "      <td>71.3</td>\n",
       "      <td>0.002663</td>\n",
       "      <td>127.461</td>\n",
       "    </tr>\n",
       "  </tbody>\n",
       "</table>\n",
       "</div>"
      ],
      "text/plain": [
       "   frequency  angle_of_attack  chord_length  free_stream_velocity  \\\n",
       "0        800              0.0        0.3048                  71.3   \n",
       "1       1000              0.0        0.3048                  71.3   \n",
       "2       1250              0.0        0.3048                  71.3   \n",
       "3       1600              0.0        0.3048                  71.3   \n",
       "4       2000              0.0        0.3048                  71.3   \n",
       "\n",
       "   suction_side_thickness  scaled_sound_level_dbs  \n",
       "0                0.002663                 126.201  \n",
       "1                0.002663                 125.201  \n",
       "2                0.002663                 125.951  \n",
       "3                0.002663                 127.591  \n",
       "4                0.002663                 127.461  "
      ]
     },
     "execution_count": 4,
     "metadata": {},
     "output_type": "execute_result"
    }
   ],
   "source": [
    "# Read the dataset\n",
    "\n",
    "import pandas as pd\n",
    "afsn_df = pd.read_csv('airfoil_self_noise.dat', sep='\\t', header=None,\n",
    "                 names=['frequency','angle_of_attack','chord_length','free_stream_velocity','suction_side_thickness','scaled_sound_level_dbs'])\n",
    "print(afsn_df.shape)\n",
    "afsn_df.head()"
   ]
  },
  {
   "cell_type": "code",
   "execution_count": 5,
   "id": "essential-singer",
   "metadata": {},
   "outputs": [
    {
     "data": {
      "text/plain": [
       "0"
      ]
     },
     "execution_count": 5,
     "metadata": {},
     "output_type": "execute_result"
    }
   ],
   "source": [
    "# Check for NAN values in the entire dataframe\n",
    "\n",
    "afsn_df.isnull().sum().sum()"
   ]
  },
  {
   "cell_type": "code",
   "execution_count": 6,
   "id": "annoying-employment",
   "metadata": {},
   "outputs": [
    {
     "name": "stdout",
     "output_type": "stream",
     "text": [
      "<class 'pandas.core.frame.DataFrame'>\n",
      "RangeIndex: 1503 entries, 0 to 1502\n",
      "Data columns (total 6 columns):\n",
      " #   Column                  Non-Null Count  Dtype  \n",
      "---  ------                  --------------  -----  \n",
      " 0   frequency               1503 non-null   int64  \n",
      " 1   angle_of_attack         1503 non-null   float64\n",
      " 2   chord_length            1503 non-null   float64\n",
      " 3   free_stream_velocity    1503 non-null   float64\n",
      " 4   suction_side_thickness  1503 non-null   float64\n",
      " 5   scaled_sound_level_dbs  1503 non-null   float64\n",
      "dtypes: float64(5), int64(1)\n",
      "memory usage: 70.6 KB\n"
     ]
    }
   ],
   "source": [
    "# Info about the dataframe\n",
    "\n",
    "afsn_df.info()"
   ]
  },
  {
   "cell_type": "code",
   "execution_count": 7,
   "id": "improving-partnership",
   "metadata": {},
   "outputs": [
    {
     "data": {
      "text/html": [
       "<div>\n",
       "<style scoped>\n",
       "    .dataframe tbody tr th:only-of-type {\n",
       "        vertical-align: middle;\n",
       "    }\n",
       "\n",
       "    .dataframe tbody tr th {\n",
       "        vertical-align: top;\n",
       "    }\n",
       "\n",
       "    .dataframe thead th {\n",
       "        text-align: right;\n",
       "    }\n",
       "</style>\n",
       "<table border=\"1\" class=\"dataframe\">\n",
       "  <thead>\n",
       "    <tr style=\"text-align: right;\">\n",
       "      <th></th>\n",
       "      <th>frequency</th>\n",
       "      <th>angle_of_attack</th>\n",
       "      <th>chord_length</th>\n",
       "      <th>free_stream_velocity</th>\n",
       "      <th>suction_side_thickness</th>\n",
       "      <th>scaled_sound_level_dbs</th>\n",
       "    </tr>\n",
       "  </thead>\n",
       "  <tbody>\n",
       "    <tr>\n",
       "      <th>count</th>\n",
       "      <td>1503.000000</td>\n",
       "      <td>1503.000000</td>\n",
       "      <td>1503.000000</td>\n",
       "      <td>1503.000000</td>\n",
       "      <td>1503.000000</td>\n",
       "      <td>1503.000000</td>\n",
       "    </tr>\n",
       "    <tr>\n",
       "      <th>mean</th>\n",
       "      <td>2886.380572</td>\n",
       "      <td>6.782302</td>\n",
       "      <td>0.136548</td>\n",
       "      <td>50.860745</td>\n",
       "      <td>0.011140</td>\n",
       "      <td>124.835943</td>\n",
       "    </tr>\n",
       "    <tr>\n",
       "      <th>std</th>\n",
       "      <td>3152.573137</td>\n",
       "      <td>5.918128</td>\n",
       "      <td>0.093541</td>\n",
       "      <td>15.572784</td>\n",
       "      <td>0.013150</td>\n",
       "      <td>6.898657</td>\n",
       "    </tr>\n",
       "    <tr>\n",
       "      <th>min</th>\n",
       "      <td>200.000000</td>\n",
       "      <td>0.000000</td>\n",
       "      <td>0.025400</td>\n",
       "      <td>31.700000</td>\n",
       "      <td>0.000401</td>\n",
       "      <td>103.380000</td>\n",
       "    </tr>\n",
       "    <tr>\n",
       "      <th>25%</th>\n",
       "      <td>800.000000</td>\n",
       "      <td>2.000000</td>\n",
       "      <td>0.050800</td>\n",
       "      <td>39.600000</td>\n",
       "      <td>0.002535</td>\n",
       "      <td>120.191000</td>\n",
       "    </tr>\n",
       "    <tr>\n",
       "      <th>50%</th>\n",
       "      <td>1600.000000</td>\n",
       "      <td>5.400000</td>\n",
       "      <td>0.101600</td>\n",
       "      <td>39.600000</td>\n",
       "      <td>0.004957</td>\n",
       "      <td>125.721000</td>\n",
       "    </tr>\n",
       "    <tr>\n",
       "      <th>75%</th>\n",
       "      <td>4000.000000</td>\n",
       "      <td>9.900000</td>\n",
       "      <td>0.228600</td>\n",
       "      <td>71.300000</td>\n",
       "      <td>0.015576</td>\n",
       "      <td>129.995500</td>\n",
       "    </tr>\n",
       "    <tr>\n",
       "      <th>max</th>\n",
       "      <td>20000.000000</td>\n",
       "      <td>22.200000</td>\n",
       "      <td>0.304800</td>\n",
       "      <td>71.300000</td>\n",
       "      <td>0.058411</td>\n",
       "      <td>140.987000</td>\n",
       "    </tr>\n",
       "  </tbody>\n",
       "</table>\n",
       "</div>"
      ],
      "text/plain": [
       "          frequency  angle_of_attack  chord_length  free_stream_velocity  \\\n",
       "count   1503.000000      1503.000000   1503.000000           1503.000000   \n",
       "mean    2886.380572         6.782302      0.136548             50.860745   \n",
       "std     3152.573137         5.918128      0.093541             15.572784   \n",
       "min      200.000000         0.000000      0.025400             31.700000   \n",
       "25%      800.000000         2.000000      0.050800             39.600000   \n",
       "50%     1600.000000         5.400000      0.101600             39.600000   \n",
       "75%     4000.000000         9.900000      0.228600             71.300000   \n",
       "max    20000.000000        22.200000      0.304800             71.300000   \n",
       "\n",
       "       suction_side_thickness  scaled_sound_level_dbs  \n",
       "count             1503.000000             1503.000000  \n",
       "mean                 0.011140              124.835943  \n",
       "std                  0.013150                6.898657  \n",
       "min                  0.000401              103.380000  \n",
       "25%                  0.002535              120.191000  \n",
       "50%                  0.004957              125.721000  \n",
       "75%                  0.015576              129.995500  \n",
       "max                  0.058411              140.987000  "
      ]
     },
     "execution_count": 7,
     "metadata": {},
     "output_type": "execute_result"
    }
   ],
   "source": [
    "# Some statistics about the dataframe\n",
    "\n",
    "afsn_df.describe()"
   ]
  },
  {
   "cell_type": "code",
   "execution_count": 8,
   "id": "convertible-walnut",
   "metadata": {},
   "outputs": [
    {
     "data": {
      "image/png": "[encoded data removed]",
      "text/plain": [
       "<Figure size 1440x1080 with 6 Axes>"
      ]
     },
     "metadata": {
      "needs_background": "light"
     },
     "output_type": "display_data"
    }
   ],
   "source": [
    "# Plot the histograms for all the features in the dataset\n",
    "\n",
    "afsn_df.hist(bins=10, figsize=(20,15))\n",
    "plt.show()"
   ]
  },
  {
   "cell_type": "code",
   "execution_count": 9,
   "id": "standing-thompson",
   "metadata": {},
   "outputs": [],
   "source": [
    "# To make this notebook's output identical at every run\n",
    "\n",
    "np.random.seed(2)"
   ]
  },
  {
   "cell_type": "code",
   "execution_count": 10,
   "id": "hindu-conference",
   "metadata": {},
   "outputs": [
    {
     "data": {
      "text/plain": [
       "scaled_sound_level_dbs    1.000000\n",
       "free_stream_velocity      0.125103\n",
       "angle_of_attack          -0.156108\n",
       "chord_length             -0.236162\n",
       "suction_side_thickness   -0.312670\n",
       "frequency                -0.390711\n",
       "Name: scaled_sound_level_dbs, dtype: float64"
      ]
     },
     "execution_count": 10,
     "metadata": {},
     "output_type": "execute_result"
    }
   ],
   "source": [
    "# Plot correlation between scaled sound level in decibels and other features\n",
    "\n",
    "corr_matrix = afsn_df.corr()\n",
    "corr_matrix[\"scaled_sound_level_dbs\"].sort_values(ascending=False)"
   ]
  },
  {
   "cell_type": "code",
   "execution_count": 11,
   "id": "aggressive-maintenance",
   "metadata": {},
   "outputs": [
    {
     "name": "stdout",
     "output_type": "stream",
     "text": [
      "X shape:  (1503, 5) y shape:  (1503,)\n",
      "Sample X values:  [[8.00000e+02 0.00000e+00 3.04800e-01 7.13000e+01 2.66337e-03]\n",
      " [1.00000e+03 0.00000e+00 3.04800e-01 7.13000e+01 2.66337e-03]\n",
      " [1.25000e+03 0.00000e+00 3.04800e-01 7.13000e+01 2.66337e-03]\n",
      " [1.60000e+03 0.00000e+00 3.04800e-01 7.13000e+01 2.66337e-03]\n",
      " [2.00000e+03 0.00000e+00 3.04800e-01 7.13000e+01 2.66337e-03]] \n",
      " Sample y values:  [126.201 125.201 125.951 127.591 127.461]\n"
     ]
    }
   ],
   "source": [
    "# Split the dataframe into features and labels\n",
    "\n",
    "X = afsn_df.drop(['scaled_sound_level_dbs'], axis=1).values\n",
    "y = afsn_df.loc[:, 'scaled_sound_level_dbs'].values\n",
    "print(\"X shape: \", X.shape, \"y shape: \", y.shape)\n",
    "print(\"Sample X values: \", X[:5], \"\\n\", \"Sample y values: \", y[:5], )"
   ]
  },
  {
   "cell_type": "code",
   "execution_count": 12,
   "id": "front-parcel",
   "metadata": {},
   "outputs": [
    {
     "name": "stdout",
     "output_type": "stream",
     "text": [
      " X_train shape:  (1355, 5) \n",
      " y_train shape:  (1355,) \n",
      " X_val shape:  (72, 5) \n",
      " y_val shape:  (72,) \n",
      " X_test shape:  (76, 5) \n",
      " y_test shape:  (76,) \n",
      "\n"
     ]
    }
   ],
   "source": [
    "# Split the dataset into train, validation and test sets\n",
    "\n",
    "from sklearn.model_selection import train_test_split\n",
    "X_train, X_test, y_train, y_test = train_test_split(X, y, test_size=0.05, random_state=2)\n",
    "X_train, X_val, y_train, y_val = train_test_split(X_train, y_train, test_size=0.05, random_state=2)\n",
    "print(\" X_train shape: \", X_train.shape,\"\\n\", \"y_train shape: \", y_train.shape,\"\\n\",\n",
    "     \"X_val shape: \", X_val.shape,\"\\n\", \"y_val shape: \", y_val.shape,\"\\n\",\n",
    "     \"X_test shape: \", X_test.shape,\"\\n\", \"y_test shape: \", y_test.shape,\"\\n\")"
   ]
  },
  {
   "cell_type": "code",
   "execution_count": 13,
   "id": "above-killing",
   "metadata": {},
   "outputs": [
    {
     "name": "stdout",
     "output_type": "stream",
     "text": [
      "Train set score:  0.5083207431125139\n",
      "Validation set score:  0.5334522467480627\n",
      "Test set score:  0.5927084532366732\n"
     ]
    }
   ],
   "source": [
    "# Model 1\n",
    "# Sklearn Simple Linear Regression model with default parameters\n",
    "\n",
    "from sklearn.linear_model import LinearRegression\n",
    "lr_model_1 = LinearRegression()\n",
    "lr_model_1.fit(X_train, y_train)\n",
    "print(\"Train set score: \", lr_model_1.score(X_train, y_train))\n",
    "print(\"Validation set score: \", lr_model_1.score(X_val, y_val))\n",
    "print(\"Test set score: \", lr_model_1.score(X_test, y_test))"
   ]
  },
  {
   "cell_type": "code",
   "execution_count": 14,
   "id": "postal-attitude",
   "metadata": {},
   "outputs": [
    {
     "name": "stdout",
     "output_type": "stream",
     "text": [
      "Train set mse:  22.926622205057754\n",
      "Validation set mse:  28.175438742771675\n",
      "Test set mse:  20.277244806895762\n"
     ]
    }
   ],
   "source": [
    "# Mean Squared Errors of train, validation and test set predictions\n",
    "\n",
    "from sklearn.metrics import mean_squared_error\n",
    "print(\"Train set mse: \", mean_squared_error(y_train, lr_model_1.predict(X_train)))\n",
    "print(\"Validation set mse: \", mean_squared_error(y_val, lr_model_1.predict(X_val)))\n",
    "print(\"Test set mse: \", mean_squared_error(y_test, lr_model_1.predict(X_test)))"
   ]
  },
  {
   "cell_type": "code",
   "execution_count": 15,
   "id": "honest-conservation",
   "metadata": {},
   "outputs": [],
   "source": [
    "# Here the R^2 values are low and MSE values are high, more complex models are required to fit the data"
   ]
  },
  {
   "cell_type": "code",
   "execution_count": 16,
   "id": "adolescent-samuel",
   "metadata": {},
   "outputs": [
    {
     "name": "stdout",
     "output_type": "stream",
     "text": [
      "Train set score:  0.5083207431125139\n",
      "Validation set score:  0.5334522467480627\n",
      "Test set score:  0.592708453236674\n"
     ]
    }
   ],
   "source": [
    "# Model 2\n",
    "# Sklearn Simple Linear Regression model with normalized data\n",
    "\n",
    "from sklearn.linear_model import LinearRegression\n",
    "lr_model_2 = LinearRegression(normalize=True)\n",
    "lr_model_2.fit(X_train, y_train)\n",
    "print(\"Train set score: \", lr_model_2.score(X_train, y_train))\n",
    "print(\"Validation set score: \", lr_model_2.score(X_val, y_val))\n",
    "print(\"Test set score: \", lr_model_2.score(X_test, y_test))"
   ]
  },
  {
   "cell_type": "code",
   "execution_count": 17,
   "id": "light-monte",
   "metadata": {},
   "outputs": [],
   "source": [
    "# Here normalizing the data didn't made any difference, confirming that more complex models are required to fit the data"
   ]
  }
 ],
 "metadata": {
  "kernelspec": {
   "display_name": "Python 3",
   "language": "python",
   "name": "python3"
  },
  "language_info": {
   "codemirror_mode": {
    "name": "ipython",
    "version": 3
   },
   "file_extension": ".py",
   "mimetype": "text/x-python",
   "name": "python",
   "nbconvert_exporter": "python",
   "pygments_lexer": "ipython3",
   "version": "3.7.9"
  }
 },
 "nbformat": 4,
 "nbformat_minor": 5
}
