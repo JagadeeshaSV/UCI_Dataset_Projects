{
 "cells": [
  {
   "cell_type": "code",
   "execution_count": 1,
   "id": "operating-sacramento",
   "metadata": {},
   "outputs": [],
   "source": [
    "# Datset source\n",
    "# https://archive.ics.uci.edu/ml/datasets/Airfoil+Self-Noise"
   ]
  },
  {
   "cell_type": "code",
   "execution_count": 2,
   "id": "unable-dictionary",
   "metadata": {},
   "outputs": [],
   "source": [
    "# Problem Statement: Predict the scaled sound pressure level of airfoils at various wind tunnel speeds and angles of attack"
   ]
  },
  {
   "cell_type": "code",
   "execution_count": 3,
   "id": "cloudy-lottery",
   "metadata": {},
   "outputs": [],
   "source": [
    "# Python ≥3.5 is required\n",
    "import sys\n",
    "assert sys.version_info >= (3, 5)\n",
    "\n",
    "# Scikit-Learn ≥0.20 is required\n",
    "import sklearn\n",
    "assert sklearn.__version__ >= \"0.20\"\n",
    "\n",
    "# Common imports\n",
    "import numpy as np\n",
    "import os\n",
    "import time\n",
    "import pandas as pd\n",
    "import numpy as np\n",
    "from sklearn.metrics import accuracy_score\n",
    "from sklearn.metrics import mean_squared_error\n",
    "from xgboost import XGBRegressor\n",
    "from sklearn.model_selection import RandomizedSearchCV\n",
    "from sklearn.model_selection import KFold"
   ]
  },
  {
   "cell_type": "code",
   "execution_count": 4,
   "id": "completed-shelter",
   "metadata": {},
   "outputs": [
    {
     "name": "stdout",
     "output_type": "stream",
     "text": [
      "(1503, 6)\n"
     ]
    },
    {
     "data": {
      "text/html": [
       "<div>\n",
       "<style scoped>\n",
       "    .dataframe tbody tr th:only-of-type {\n",
       "        vertical-align: middle;\n",
       "    }\n",
       "\n",
       "    .dataframe tbody tr th {\n",
       "        vertical-align: top;\n",
       "    }\n",
       "\n",
       "    .dataframe thead th {\n",
       "        text-align: right;\n",
       "    }\n",
       "</style>\n",
       "<table border=\"1\" class=\"dataframe\">\n",
       "  <thead>\n",
       "    <tr style=\"text-align: right;\">\n",
       "      <th></th>\n",
       "      <th>frequency</th>\n",
       "      <th>angle_of_attack</th>\n",
       "      <th>chord_length</th>\n",
       "      <th>free_stream_velocity</th>\n",
       "      <th>suction_side_thickness</th>\n",
       "      <th>scaled_sound_level_dbs</th>\n",
       "    </tr>\n",
       "  </thead>\n",
       "  <tbody>\n",
       "    <tr>\n",
       "      <th>0</th>\n",
       "      <td>800</td>\n",
       "      <td>0.0</td>\n",
       "      <td>0.3048</td>\n",
       "      <td>71.3</td>\n",
       "      <td>0.002663</td>\n",
       "      <td>126.201</td>\n",
       "    </tr>\n",
       "    <tr>\n",
       "      <th>1</th>\n",
       "      <td>1000</td>\n",
       "      <td>0.0</td>\n",
       "      <td>0.3048</td>\n",
       "      <td>71.3</td>\n",
       "      <td>0.002663</td>\n",
       "      <td>125.201</td>\n",
       "    </tr>\n",
       "    <tr>\n",
       "      <th>2</th>\n",
       "      <td>1250</td>\n",
       "      <td>0.0</td>\n",
       "      <td>0.3048</td>\n",
       "      <td>71.3</td>\n",
       "      <td>0.002663</td>\n",
       "      <td>125.951</td>\n",
       "    </tr>\n",
       "    <tr>\n",
       "      <th>3</th>\n",
       "      <td>1600</td>\n",
       "      <td>0.0</td>\n",
       "      <td>0.3048</td>\n",
       "      <td>71.3</td>\n",
       "      <td>0.002663</td>\n",
       "      <td>127.591</td>\n",
       "    </tr>\n",
       "    <tr>\n",
       "      <th>4</th>\n",
       "      <td>2000</td>\n",
       "      <td>0.0</td>\n",
       "      <td>0.3048</td>\n",
       "      <td>71.3</td>\n",
       "      <td>0.002663</td>\n",
       "      <td>127.461</td>\n",
       "    </tr>\n",
       "  </tbody>\n",
       "</table>\n",
       "</div>"
      ],
      "text/plain": [
       "   frequency  angle_of_attack  chord_length  free_stream_velocity  \\\n",
       "0        800              0.0        0.3048                  71.3   \n",
       "1       1000              0.0        0.3048                  71.3   \n",
       "2       1250              0.0        0.3048                  71.3   \n",
       "3       1600              0.0        0.3048                  71.3   \n",
       "4       2000              0.0        0.3048                  71.3   \n",
       "\n",
       "   suction_side_thickness  scaled_sound_level_dbs  \n",
       "0                0.002663                 126.201  \n",
       "1                0.002663                 125.201  \n",
       "2                0.002663                 125.951  \n",
       "3                0.002663                 127.591  \n",
       "4                0.002663                 127.461  "
      ]
     },
     "execution_count": 4,
     "metadata": {},
     "output_type": "execute_result"
    }
   ],
   "source": [
    "# Read the dataset\n",
    "\n",
    "import pandas as pd\n",
    "afsn_df = pd.read_csv('airfoil_self_noise.dat', sep='\\t', header=None,\n",
    "                 names=['frequency','angle_of_attack','chord_length','free_stream_velocity','suction_side_thickness','scaled_sound_level_dbs'])\n",
    "print(afsn_df.shape)\n",
    "afsn_df.head()"
   ]
  },
  {
   "cell_type": "code",
   "execution_count": 5,
   "id": "loose-procedure",
   "metadata": {},
   "outputs": [],
   "source": [
    "# To make this notebook's output identical at every run\n",
    "\n",
    "np.random.seed(2)"
   ]
  },
  {
   "cell_type": "code",
   "execution_count": 6,
   "id": "billion-virus",
   "metadata": {},
   "outputs": [
    {
     "name": "stdout",
     "output_type": "stream",
     "text": [
      "X shape:  (1503, 5) y shape:  (1503,)\n",
      "Sample X values:  [[8.00000e+02 0.00000e+00 3.04800e-01 7.13000e+01 2.66337e-03]\n",
      " [1.00000e+03 0.00000e+00 3.04800e-01 7.13000e+01 2.66337e-03]\n",
      " [1.25000e+03 0.00000e+00 3.04800e-01 7.13000e+01 2.66337e-03]\n",
      " [1.60000e+03 0.00000e+00 3.04800e-01 7.13000e+01 2.66337e-03]\n",
      " [2.00000e+03 0.00000e+00 3.04800e-01 7.13000e+01 2.66337e-03]] \n",
      " Sample y values:  [126.201 125.201 125.951 127.591 127.461]\n"
     ]
    }
   ],
   "source": [
    "# Split the dataframe into features and labels\n",
    "\n",
    "X = afsn_df.drop(['scaled_sound_level_dbs'], axis=1).values\n",
    "y = afsn_df.loc[:, 'scaled_sound_level_dbs'].values\n",
    "print(\"X shape: \", X.shape, \"y shape: \", y.shape)\n",
    "print(\"Sample X values: \", X[:5], \"\\n\", \"Sample y values: \", y[:5])"
   ]
  },
  {
   "cell_type": "code",
   "execution_count": 7,
   "id": "biological-bulgaria",
   "metadata": {},
   "outputs": [
    {
     "name": "stdout",
     "output_type": "stream",
     "text": [
      " X_train shape:  (1427, 5) \n",
      " y_train shape:  (1427,) \n",
      " X_test shape:  (76, 5) \n",
      " y_test shape:  (76,) \n",
      "\n"
     ]
    }
   ],
   "source": [
    "# Split the dataset into train and test sets\n",
    "\n",
    "from sklearn.model_selection import train_test_split\n",
    "X_train, X_test, y_train, y_test = train_test_split(X, y, test_size=0.05, random_state=2)\n",
    "\n",
    "print(\" X_train shape: \", X_train.shape,\"\\n\", \"y_train shape: \", y_train.shape,\"\\n\",\n",
    "        \"X_test shape: \", X_test.shape,\"\\n\", \"y_test shape: \", y_test.shape,\"\\n\")"
   ]
  },
  {
   "cell_type": "code",
   "execution_count": 8,
   "id": "durable-commissioner",
   "metadata": {},
   "outputs": [
    {
     "name": "stdout",
     "output_type": "stream",
     "text": [
      "Fitting 10 folds for each of 100 candidates, totalling 1000 fits\n",
      "Best: 0.944991 using {'subsample': 0.63, 'min_child_weight': 0.1361, 'max_depth': 12, 'learning_rate': 0.2965, 'gamma': 3.685, 'colsample_bytree': 0.9799999999999995, 'colsample_bylevel': 1.0}\n",
      "Execution time in seconds:  13.023132562637329\n"
     ]
    }
   ],
   "source": [
    "start_time = time.time()\n",
    "\n",
    "xgbr = XGBRegressor(objective='reg:squarederror')\n",
    "\n",
    "param_grid = {\n",
    "        'max_depth': [3, 4, 5, 6, 7, 8, 9, 10, 11, 12],\n",
    "        'min_child_weight': np.arange(0.0001, 0.5, 0.001),\n",
    "        'gamma': np.arange(0.0,40.0,0.005),\n",
    "        'learning_rate': np.arange(0.0005,0.3,0.0005),\n",
    "        'subsample': np.arange(0.01,1.0,0.01),\n",
    "        'colsample_bylevel': np.round(np.arange(0.1,1.0,0.01)),\n",
    "        'colsample_bytree': np.arange(0.1,1.0,0.01)\n",
    "}\n",
    "\n",
    "kfold = KFold(n_splits=10, shuffle=True, random_state=2)\n",
    "xgbr_search = RandomizedSearchCV(xgbr, param_grid, n_iter = 100, n_jobs=10, cv=kfold, verbose=1, random_state=2)\n",
    "xgbr_result = xgbr_search.fit(X_train, y_train)\n",
    "\n",
    "# summarize results\n",
    "print(\"Best: %f using %s\" % (xgbr_result.best_score_, xgbr_result.best_params_))\n",
    "print(\"Execution time in seconds: \", time.time()-start_time)"
   ]
  },
  {
   "cell_type": "code",
   "execution_count": 9,
   "id": "attended-channel",
   "metadata": {},
   "outputs": [
    {
     "name": "stdout",
     "output_type": "stream",
     "text": [
      "Train set R^2 score:  0.9900027021716362\n",
      "Test set R^2 score:  0.9268948829982065\n"
     ]
    }
   ],
   "source": [
    "# R^2 values for train and test sets\n",
    "\n",
    "print(\"Train set R^2 score: \", xgbr_search.best_estimator_.score(X_train, y_train))\n",
    "print(\"Test set R^2 score: \", xgbr_search.best_estimator_.score(X_test, y_test))"
   ]
  }
 ],
 "metadata": {
  "kernelspec": {
   "display_name": "Python 3",
   "language": "python",
   "name": "python3"
  },
  "language_info": {
   "codemirror_mode": {
    "name": "ipython",
    "version": 3
   },
   "file_extension": ".py",
   "mimetype": "text/x-python",
   "name": "python",
   "nbconvert_exporter": "python",
   "pygments_lexer": "ipython3",
   "version": "3.7.9"
  }
 },
 "nbformat": 4,
 "nbformat_minor": 5
}
